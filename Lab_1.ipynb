{
 "cells": [
  {
   "cell_type": "markdown",
   "id": "c94880da-ff0b-4519-ad18-0a42f5fc0094",
   "metadata": {},
   "source": [
    "# Lab No 1: Python Recap: 9 Challenges"
   ]
  },
  {
   "cell_type": "markdown",
   "id": "902dee11-f0e7-4dc9-966a-b61d3ee12049",
   "metadata": {},
   "source": [
    "## Challenge 1:\n"
   ]
  },
  {
   "cell_type": "code",
   "execution_count": null,
   "id": "c1d35bad-e7be-44a8-999e-5f813746a328",
   "metadata": {},
   "outputs": [],
   "source": [
    "#importing the geopandas library\n",
    "import pandas as pd \n",
    "\n",
    "#creating a tables of road types with three different column\n",
    "data = {\n",
    "    'Name of different type of road': ['metorway', 'dual carriage', 'single carriage'], \n",
    "    'Speed limit': [70, 70, 60],\n",
    "    'Hiperlinks': [ 'https://www.gov.uk/speed-limits',\n",
    "                   'https://www.gov.uk/speed-limits',\n",
    "                   'https://www.gov.uk/speed-limits'] } \n",
    "\n",
    "#creating data frame\n",
    "df = pd.DataFrame(data) \n",
    "\n",
    "#display the created table\n",
    "print(df) "
   ]
  },
  {
   "cell_type": "markdown",
   "id": "9e1e1f7b-3f14-4b01-b518-f21f24868608",
   "metadata": {},
   "source": [
    "## Challenge 2:"
   ]
  },
  {
   "cell_type": "code",
   "execution_count": null,
   "id": "525aef94-4a8e-4b67-aaec-add9bb624210",
   "metadata": {},
   "outputs": [],
   "source": [
    "# Defining the numbers\n",
    "x = 10\n",
    "y = 20\n",
    "z = 30\n",
    "\n",
    "# Calculate the average by dividing the sum by 3\n",
    "average = (x + y + z) / 3\n",
    "\n",
    "# Display the result\n",
    "print(\"The average of the three numbers is:\", average)"
   ]
  },
  {
   "cell_type": "markdown",
   "id": "0260b1ff-73db-4f21-a50e-591acdd6d35b",
   "metadata": {},
   "source": [
    "## Challenge 3:"
   ]
  },
  {
   "cell_type": "code",
   "execution_count": null,
   "id": "ba6a55eb-bbc2-48fe-a075-7a4c93ff4a44",
   "metadata": {},
   "outputs": [],
   "source": [
    "# Defining a number\n",
    "x = 11\n",
    "\n",
    "# Setting up a if...else fuction to check if a number is even\n",
    "if x %2 :\n",
    "    print( \"The number is not even\")\n",
    "else:\n",
    "    print (\"The number is even\")"
   ]
  },
  {
   "cell_type": "markdown",
   "id": "8da39f57-ac09-41ae-9f08-6ab02d46f983",
   "metadata": {},
   "source": [
    "## Challenge 4:"
   ]
  },
  {
   "cell_type": "code",
   "execution_count": null,
   "id": "6956d6e6-08c6-4de7-90d2-b78a95c710b7",
   "metadata": {},
   "outputs": [],
   "source": [
    "# Setting up of fuction with variance 'n'\n",
    "def factorial(n):\n",
    "    if n < 0:\n",
    "        return \"Invalid\" # Display Invalid if the number is negative\n",
    "    \n",
    "    result = 1\n",
    "    for i in range(1, n + 1): # fuction to calculate the factorial of 'n'\n",
    "        result *= i\n",
    "    return result\n",
    "    \n",
    "# Allows users to input a number\n",
    "num = int(input(\"Enter a positive integer: \")) \n",
    "\n",
    "print(f\"The factorial of {num} is {factorial(num)}\")"
   ]
  },
  {
   "cell_type": "markdown",
   "id": "b19ca011-3fe2-4dcd-b57d-0ec7851f42ec",
   "metadata": {},
   "source": [
    "## Challenge 5:"
   ]
  },
  {
   "cell_type": "code",
   "execution_count": null,
   "id": "d5f9f6a2-0f60-4bcb-b3ac-67f166373d0f",
   "metadata": {},
   "outputs": [],
   "source": [
    "# Allows users to input a number(Mark)\n",
    "Mark = int(input(\"Enter the Mark\"))\n",
    "\n",
    "# Setting up a if...elif fuction to determine the grade of the number entered\n",
    " \n",
    "if  81 <= Mark <= 100:\n",
    "    print(\"Grade:20\")\n",
    "\n",
    "elif 61 <= Mark <= 80:\n",
    "    print(\"Grade:15\")\n",
    "\n",
    "elif 41 <= Mark <= 60:\n",
    "    print(\"Grade:10\")\n",
    "\n",
    "elif 20 <= Mark <= 40:\n",
    "    print(\"Grade:5\")\n",
    "\n",
    "else:\n",
    "    print ('undefined')\n"
   ]
  },
  {
   "cell_type": "markdown",
   "id": "fe13cf8d-7bb8-48a4-92b4-68c53707e422",
   "metadata": {},
   "source": [
    "## Challenge 6:"
   ]
  },
  {
   "cell_type": "code",
   "execution_count": null,
   "id": "eda4c201-1b63-406f-9af4-009242e24308",
   "metadata": {},
   "outputs": [],
   "source": [
    "# Allows users to input a Temperature in Fahrenheit\n",
    "F = int(input(\"Temperature in Fahrenheit\"))\n",
    "\n",
    "# Defining a fuction to convert fahreheit to celsius with the variance 'F'\n",
    "def fahrenheit_to_celsius(F):\n",
    "    return (F - 32)/1.8\n",
    "\n",
    "c = fahrenheit_to_celsius(F)\n",
    "\n",
    "# Display result\n",
    "print(c)"
   ]
  },
  {
   "cell_type": "markdown",
   "id": "f616fabb-09a9-4692-938a-25bd64dbe088",
   "metadata": {},
   "source": [
    "## Challenge 7:"
   ]
  },
  {
   "cell_type": "code",
   "execution_count": null,
   "id": "ccf5d527-589b-4146-9249-0cf4c8d8b739",
   "metadata": {},
   "outputs": [],
   "source": [
    "# import numpy to set up a NumPy array\n",
    "import numpy as np\n",
    "\n",
    "# Defining data in the array\n",
    "arr = np.array([1, 2, 3, 4])\n",
    "\n",
    "# Calculates the mean of the array\n",
    "mean_value = np.mean(arr)\n",
    "\n",
    "# Calculates the Standard deviation of the array\n",
    "std_deviation = np.std(arr)\n",
    "\n",
    "# Display result\n",
    "print(f\"Mean: {mean_value}, Standard Deviation: {std_deviation}\")"
   ]
  },
  {
   "cell_type": "markdown",
   "id": "a1a369b1-5db4-44bb-8b20-af0d91cad0ba",
   "metadata": {},
   "source": [
    "## Challenge 8:"
   ]
  },
  {
   "cell_type": "code",
   "execution_count": null,
   "id": "8681ecf8-71a5-44a4-a92d-b01701ed0596",
   "metadata": {},
   "outputs": [],
   "source": [
    "# Data provided from the question\n",
    "\n",
    "import pandas as pd\n",
    "\n",
    "sales_data_dict = {\n",
    "    'Date': ['2022-01-01', '2022-01-02', '2022-01-03', '2022-01-04'],\n",
    "    'Region': ['North', 'South', 'East', 'West'],\n",
    "    'Product': ['A', 'B', 'A', 'C'],\n",
    "    'Quantity': [15, 8, 12, 10],\n",
    "    'Revenue': [1500, 1200, 1800, 900]\n",
    "}\n",
    "\n",
    "sales_data = pd.DataFrame(sales_data_dict)\n",
    "\n",
    "\n",
    "movie_ratings_dict = {\n",
    "    'Title': ['Movie1', 'Movie2', 'Movie3', 'Movie4'],\n",
    "    'Genre': ['Action', 'Drama', 'Comedy', 'Thriller'],\n",
    "    'Year': [2015, 2010, 2018, 2011],\n",
    "    'Rating': [8.5, 7.8, 9.2, 8.0]\n",
    "}\n",
    "\n",
    "movie_ratings = pd.DataFrame(movie_ratings_dict)"
   ]
  },
  {
   "cell_type": "code",
   "execution_count": null,
   "id": "cfe3d024-0ae8-4843-96bb-7ffbfdb2eb18",
   "metadata": {},
   "outputs": [],
   "source": [
    "# displaying the first five row of sales data\n",
    "print(sales_data.head()) "
   ]
  },
  {
   "cell_type": "code",
   "execution_count": null,
   "id": "04287d2e-bc5c-4864-83e2-356065961e4f",
   "metadata": {},
   "outputs": [],
   "source": [
    "# Display fillered sales data with a quantity greater than 10 and located in Region North\n",
    "print(sales_data.loc[(sales_data[\"Quantity\"] > 10) & (sales_data[\"Region\"] == \"North\")])"
   ]
  },
  {
   "cell_type": "code",
   "execution_count": null,
   "id": "298342e2-fa26-4986-a0c1-a01788ea08eb",
   "metadata": {},
   "outputs": [],
   "source": [
    "# Display sales data in first row and the first three columns\n",
    "print(sales_data.iloc[0, :3])"
   ]
  },
  {
   "cell_type": "code",
   "execution_count": null,
   "id": "9c346039-fdb9-4d16-b79a-8d8d3fcf4733",
   "metadata": {},
   "outputs": [],
   "source": [
    "# display the total sales for each region calculated by groupby and sum fuction\n",
    "print(sales_data.groupby('Region')['Revenue'].sum())"
   ]
  },
  {
   "cell_type": "code",
   "execution_count": null,
   "id": "122d94ae-884f-448f-b607-c3ac04853a75",
   "metadata": {},
   "outputs": [],
   "source": [
    "#Display the last 3 rows of movie ratings\n",
    "print(movie_ratings.tail(3))"
   ]
  },
  {
   "cell_type": "code",
   "execution_count": null,
   "id": "01afa21a-0a76-44b2-8e8f-016449fb9a6d",
   "metadata": {},
   "outputs": [],
   "source": [
    "# Display the average rating for each genre calculated by groupby and mean fuction\n",
    "print((movie_ratings.groupby(\"Genre\")[\"Rating\"]).mean())"
   ]
  },
  {
   "cell_type": "markdown",
   "id": "66d54e90-1e02-42a3-83ee-7c46465a4f07",
   "metadata": {},
   "source": [
    "## Challenge 9:"
   ]
  },
  {
   "cell_type": "code",
   "execution_count": null,
   "id": "4ae9cc77-c308-4cc4-8ba1-772312337f88",
   "metadata": {},
   "outputs": [],
   "source": [
    "# import geopandas to create a geopandas data frame\n",
    "import geopandas as gpd\n",
    "\n",
    "# reading shp. file by using geopandas and create a data frame at the same time\n",
    "gdf = gpd.read_file(\n",
    "    \"/Users/hoitik/Desktop/Assginment_1/Lab 1/data/Road_Safety_Accidents.shp\")\n",
    "\n",
    "# Create a choropleth explore map by speed limit, the darker the higher speed limit\n",
    "gdf.explore(\"SPEED_LIMI\", cmap=\"Reds\")"
   ]
  },
  {
   "cell_type": "code",
   "execution_count": null,
   "id": "ebab888b-d364-41b4-a0bd-7fae7d807aa1",
   "metadata": {},
   "outputs": [],
   "source": [
    "#import rastio to read raster data\n",
    "import rasterio\n",
    "# to plot raster data\n",
    "from rasterio.plot import show\n",
    "\n",
    "# Reads raster data from the given path\n",
    "elev = rasterio.open(\"/Users/hoitik/Desktop/Assginment_1/Lab 1/data//elev.tif\")\n",
    "\n",
    "#plot the data\n",
    "show(elev)"
   ]
  },
  {
   "cell_type": "code",
   "execution_count": null,
   "id": "4552d190-c740-4a9e-9e29-132a8bae0aa3",
   "metadata": {},
   "outputs": [],
   "source": [
    "# Allows us to plot histogram from raster data\n",
    "from rasterio.plot import show_hist\n",
    "\n",
    "# plot the histogram with the data 'elev'\n",
    "show_hist(\n",
    "    elev, bins=50, lw=0.0, stacked=False, alpha=0.3,\n",
    "    histtype='stepfilled', title=\"Histogram of elevation\")"
   ]
  },
  {
   "cell_type": "code",
   "execution_count": null,
   "id": "ff92064c-e287-4b96-bcf0-8ec8d08cf051",
   "metadata": {},
   "outputs": [],
   "source": []
  }
 ],
 "metadata": {
  "kernelspec": {
   "display_name": "Python 3 (ipykernel)",
   "language": "python",
   "name": "python3"
  },
  "language_info": {
   "codemirror_mode": {
    "name": "ipython",
    "version": 3
   },
   "file_extension": ".py",
   "mimetype": "text/x-python",
   "name": "python",
   "nbconvert_exporter": "python",
   "pygments_lexer": "ipython3",
   "version": "3.11.6"
  }
 },
 "nbformat": 4,
 "nbformat_minor": 5
}
